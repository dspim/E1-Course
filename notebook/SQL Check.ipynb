{
 "cells": [
  {
   "cell_type": "markdown",
   "metadata": {},
   "source": [
    "# 檢查資料 ubike-utf8.csv 是否已在"
   ]
  },
  {
   "cell_type": "code",
   "execution_count": 7,
   "metadata": {
    "collapsed": false
   },
   "outputs": [],
   "source": [
    "#!/bin/env python\n",
    "# -*- coding: utf-8 -*-\n",
    "\n",
    "import csv\n",
    "from datetime import datetime\n",
    "import psycopg2\n",
    "\n",
    "def dateime_strptime_or_none(x, format_str):\n",
    "    try:\n",
    "        return datetime.strptime(x, format_str)\n",
    "    except ValueError:\n",
    "        return None\n",
    "\n",
    "def str_or_none(x):\n",
    "    if x == 'NA':\n",
    "        return None\n",
    "    return x\n",
    "\n",
    "def float_or_none(x):\n",
    "    if x == 'NA':\n",
    "        return None\n",
    "    return float(x)\n",
    "\n",
    "def load_ubike():\n",
    "\n",
    "    conn = psycopg2.connect(user='lab')\n",
    "    cur = conn.cursor()\n",
    "\n",
    "    cur.execute('''drop table if exists ubike''')\n",
    "\n",
    "    cur.execute('''\n",
    "        create table ubike (\n",
    "            when_ts       timestamp,\n",
    "            where_pt      point,\n",
    "            code          varchar(8),\n",
    "            name          varchar(32),\n",
    "            area_name     varchar(32),\n",
    "            space_num     int,\n",
    "            avg_bike_num  real,\n",
    "            max_bike_num  int,\n",
    "            min_bike_num  int,\n",
    "            bike_num_std  real,\n",
    "            avg_space_num real,\n",
    "            max_space_num int,\n",
    "            min_space_num int,\n",
    "            space_num_std real\n",
    "        )\n",
    "    ''')\n",
    "    cur.execute('''create index on ubike (when_ts)''')\n",
    "    cur.execute('''create index on ubike (code)''')\n",
    "    cur.execute('''create index on ubike (name)''')\n",
    "    cur.execute('''create index on ubike using gist (where_pt)''')\n",
    "\n",
    "    ubike_csv_reader = csv.reader(open('ubike-utf8.csv'))\n",
    "    # skip title\n",
    "    next(ubike_csv_reader)\n",
    "    for row in ubike_csv_reader:\n",
    "        cur.execute('''insert into ubike values (\n",
    "            %s,\n",
    "            '%s',\n",
    "            %s, %s, %s, %s,\n",
    "            %s, %s, %s, %s,\n",
    "            %s, %s, %s, %s\n",
    "        )''', (\n",
    "            dateime_strptime_or_none(row[0]+' '+row[1], '%Y-%m-%d %H'),\n",
    "            # where_pt\n",
    "            (float(row[5]), float(row[6])),\n",
    "            # code, name, area_name, space_num\n",
    "            row[2], str_or_none(row[4]), row[3], int(row[7]),\n",
    "            # avg_bike_num~\n",
    "            float(row[8]), int(row[9]), int(row[10]), float_or_none(row[11]),\n",
    "            # avg_space_num~\n",
    "            float(row[12]), int(row[13]), int(row[14]), float_or_none(row[15])\n",
    "        ))\n",
    "\n",
    "    cur.close()\n",
    "    conn.commit()\n",
    "    conn.close()\n",
    "\n",
    "if __name__ == '__main__':\n",
    "    load_ubike()\n"
   ]
  },
  {
   "cell_type": "markdown",
   "metadata": {},
   "source": [
    "# 重新連線 上面的 conn.close() 會中斷連線釋放資源"
   ]
  },
  {
   "cell_type": "code",
   "execution_count": 16,
   "metadata": {
    "collapsed": true
   },
   "outputs": [],
   "source": [
    "    conn = psycopg2.connect(user='lab')\n",
    "    cur = conn.cursor()"
   ]
  },
  {
   "cell_type": "code",
   "execution_count": 18,
   "metadata": {
    "collapsed": false
   },
   "outputs": [],
   "source": [
    " bike = cur.execute(\"select 'code' from ubike limit 3;\")"
   ]
  },
  {
   "cell_type": "markdown",
   "metadata": {},
   "source": [
    "# 使用 pandas 的相關sql 語法庫"
   ]
  },
  {
   "cell_type": "code",
   "execution_count": 1,
   "metadata": {
    "collapsed": false
   },
   "outputs": [],
   "source": [
    "import pandas.io.sql"
   ]
  },
  {
   "cell_type": "code",
   "execution_count": 28,
   "metadata": {
    "collapsed": false
   },
   "outputs": [
    {
     "data": {
      "text/html": [
       "<div style=\"max-height:1000px;max-width:1500px;overflow:auto;\">\n",
       "<table border=\"1\" class=\"dataframe\">\n",
       "  <thead>\n",
       "    <tr style=\"text-align: right;\">\n",
       "      <th></th>\n",
       "      <th>when_ts</th>\n",
       "      <th>where_pt</th>\n",
       "      <th>code</th>\n",
       "      <th>name</th>\n",
       "      <th>area_name</th>\n",
       "      <th>space_num</th>\n",
       "      <th>avg_bike_num</th>\n",
       "      <th>max_bike_num</th>\n",
       "      <th>min_bike_num</th>\n",
       "      <th>bike_num_std</th>\n",
       "      <th>avg_space_num</th>\n",
       "      <th>max_space_num</th>\n",
       "      <th>min_space_num</th>\n",
       "      <th>space_num_std</th>\n",
       "    </tr>\n",
       "  </thead>\n",
       "  <tbody>\n",
       "    <tr>\n",
       "      <th>0</th>\n",
       "      <td>2014-12-08 15:00:00</td>\n",
       "      <td>(25.041,121.556945)</td>\n",
       "      <td>2</td>\n",
       "      <td>捷運國父紀念館站(2號出口)</td>\n",
       "      <td>大安區</td>\n",
       "      <td>48</td>\n",
       "      <td>24.000</td>\n",
       "      <td>27</td>\n",
       "      <td>23</td>\n",
       "      <td>1.549</td>\n",
       "      <td>22.000</td>\n",
       "      <td>23</td>\n",
       "      <td>19</td>\n",
       "      <td>2</td>\n",
       "    </tr>\n",
       "    <tr>\n",
       "      <th>1</th>\n",
       "      <td>2014-12-08 15:00:00</td>\n",
       "      <td>(25.037797,121.565169)</td>\n",
       "      <td>3</td>\n",
       "      <td>台北市政府</td>\n",
       "      <td>信義區</td>\n",
       "      <td>40</td>\n",
       "      <td>10.333</td>\n",
       "      <td>13</td>\n",
       "      <td>8</td>\n",
       "      <td>1.862</td>\n",
       "      <td>29.667</td>\n",
       "      <td>32</td>\n",
       "      <td>27</td>\n",
       "      <td>2</td>\n",
       "    </tr>\n",
       "    <tr>\n",
       "      <th>2</th>\n",
       "      <td>2014-12-08 15:00:00</td>\n",
       "      <td>(25.036036,121.562325)</td>\n",
       "      <td>4</td>\n",
       "      <td>市民廣場</td>\n",
       "      <td>信義區</td>\n",
       "      <td>60</td>\n",
       "      <td>39.333</td>\n",
       "      <td>40</td>\n",
       "      <td>38</td>\n",
       "      <td>1.033</td>\n",
       "      <td>20.667</td>\n",
       "      <td>22</td>\n",
       "      <td>20</td>\n",
       "      <td>1</td>\n",
       "    </tr>\n",
       "  </tbody>\n",
       "</table>\n",
       "</div>"
      ],
      "text/plain": [
       "              when_ts                where_pt code            name area_name  \\\n",
       "0 2014-12-08 15:00:00     (25.041,121.556945)    2  捷運國父紀念館站(2號出口)       大安區   \n",
       "1 2014-12-08 15:00:00  (25.037797,121.565169)    3           台北市政府       信義區   \n",
       "2 2014-12-08 15:00:00  (25.036036,121.562325)    4            市民廣場       信義區   \n",
       "\n",
       "   space_num  avg_bike_num  max_bike_num  min_bike_num  bike_num_std  \\\n",
       "0         48        24.000            27            23         1.549   \n",
       "1         40        10.333            13             8         1.862   \n",
       "2         60        39.333            40            38         1.033   \n",
       "\n",
       "   avg_space_num  max_space_num  min_space_num  space_num_std  \n",
       "0         22.000             23             19              2  \n",
       "1         29.667             32             27              2  \n",
       "2         20.667             22             20              1  "
      ]
     },
     "execution_count": 28,
     "metadata": {},
     "output_type": "execute_result"
    }
   ],
   "source": [
    "# query db\n",
    "sql = \"\"\"\n",
    "\n",
    "select * from ubike limit 3\n",
    "\n",
    "\"\"\"\n",
    "df = pandas.io.sql.read_sql(sql, conn)\n",
    "df.head()"
   ]
  },
  {
   "cell_type": "markdown",
   "metadata": {},
   "source": [
    "# 檢查資料"
   ]
  },
  {
   "cell_type": "code",
   "execution_count": 29,
   "metadata": {
    "collapsed": false
   },
   "outputs": [
    {
     "data": {
      "text/plain": [
       "Index([u'when_ts', u'where_pt', u'code', u'name', u'area_name', u'space_num', u'avg_bike_num', u'max_bike_num', u'min_bike_num', u'bike_num_std', u'avg_space_num', u'max_space_num', u'min_space_num', u'space_num_std'], dtype='object')"
      ]
     },
     "execution_count": 29,
     "metadata": {},
     "output_type": "execute_result"
    }
   ],
   "source": [
    "df.columns"
   ]
  },
  {
   "cell_type": "code",
   "execution_count": 30,
   "metadata": {
    "collapsed": false,
    "scrolled": true
   },
   "outputs": [
    {
     "data": {
      "text/plain": [
       "when_ts          datetime64[ns]\n",
       "where_pt                 object\n",
       "code                     object\n",
       "name                     object\n",
       "area_name                object\n",
       "space_num                 int64\n",
       "avg_bike_num            float64\n",
       "max_bike_num              int64\n",
       "min_bike_num              int64\n",
       "bike_num_std            float64\n",
       "avg_space_num           float64\n",
       "max_space_num             int64\n",
       "min_space_num             int64\n",
       "space_num_std           float64\n",
       "dtype: object"
      ]
     },
     "execution_count": 30,
     "metadata": {},
     "output_type": "execute_result"
    }
   ],
   "source": [
    "df.dtypes"
   ]
  },
  {
   "cell_type": "markdown",
   "metadata": {},
   "source": [
    "# 檢查資料 weathertp-big5-utf8.csv 是否已在"
   ]
  },
  {
   "cell_type": "code",
   "execution_count": 1,
   "metadata": {
    "collapsed": false
   },
   "outputs": [],
   "source": [
    "#!/bin/env python\n",
    "# -*- coding: utf-8 -*-\n",
    "\n",
    "import csv\n",
    "from datetime import datetime\n",
    "import psycopg2\n",
    "\n",
    "def dateime_strptime_or_none(x, format_str):\n",
    "    try:\n",
    "        return datetime.strptime(x, format_str)\n",
    "    except ValueError:\n",
    "        return None\n",
    "\n",
    "def str_or_none(x):\n",
    "    if x == 'NA':\n",
    "        return None\n",
    "    return x\n",
    "\n",
    "def float_or_none(x):\n",
    "    if x == 'NA':\n",
    "        return None\n",
    "    return float(x)\n",
    "\n",
    "def load_tpweather():\n",
    "\n",
    "    conn = psycopg2.connect(user='lab')\n",
    "    cur = conn.cursor()\n",
    "\n",
    "    cur.execute('''drop table if exists tpweather''')\n",
    "\n",
    "    cur.execute('''\n",
    "        create table tpweather (\n",
    "            when_ts    timestamp,\n",
    "            where_pt   point,\n",
    "            name       varchar(32),\n",
    "            temp       real,\n",
    "            max_temp   real,\n",
    "            min_temp   real,\n",
    "            hum_pct    real,\n",
    "            pressure   real,\n",
    "            wind_speed real,\n",
    "            rainfall   real\n",
    "        )\n",
    "    ''')\n",
    "    cur.execute('''create index on tpweather (when_ts)''')\n",
    "    cur.execute('''create index on tpweather (name)''')\n",
    "    cur.execute('''create index on tpweather using gist (where_pt)''')\n",
    "\n",
    "    tpweather_csv_reader = csv.reader(open('weathertp-big5-utf8.csv'))\n",
    "    # skip title\n",
    "    next(tpweather_csv_reader)\n",
    "    for row in tpweather_csv_reader:\n",
    "        cur.execute('''insert into tpweather values (\n",
    "            %s,\n",
    "            '%s',\n",
    "            %s,\n",
    "            %s, %s, %s,\n",
    "            %s, %s, %s, %s\n",
    "        )''', (\n",
    "            dateime_strptime_or_none(row[0]+' '+row[1], '%Y-%m-%d %H:%M'),\n",
    "            # where_pt\n",
    "            (float(row[10]), float(row[11])),\n",
    "            # name\n",
    "            row[2],\n",
    "            # temp~\n",
    "            float_or_none(row[3]), float_or_none(row[4]), float_or_none(row[5]),\n",
    "            # hum_pct~\n",
    "            float_or_none(row[6]), float_or_none(row[7]), float_or_none(row[8]), float_or_none(row[9])\n",
    "        ))\n",
    "\n",
    "    cur.close()\n",
    "    conn.commit()\n",
    "    conn.close()\n",
    "\n",
    "if __name__ == '__main__':\n",
    "    load_tpweather()\n"
   ]
  },
  {
   "cell_type": "markdown",
   "metadata": {},
   "source": [
    "# 再次連線並且檢查資料"
   ]
  },
  {
   "cell_type": "code",
   "execution_count": 3,
   "metadata": {
    "collapsed": false
   },
   "outputs": [],
   "source": [
    "import pandas.io.sql\n",
    "import psycopg2\n",
    "conn = psycopg2.connect(user='lab')\n",
    "cur = conn.cursor()"
   ]
  },
  {
   "cell_type": "code",
   "execution_count": 4,
   "metadata": {
    "collapsed": false
   },
   "outputs": [
    {
     "data": {
      "text/html": [
       "<div style=\"max-height:1000px;max-width:1500px;overflow:auto;\">\n",
       "<table border=\"1\" class=\"dataframe\">\n",
       "  <thead>\n",
       "    <tr style=\"text-align: right;\">\n",
       "      <th></th>\n",
       "      <th>when_ts</th>\n",
       "      <th>where_pt</th>\n",
       "      <th>name</th>\n",
       "      <th>temp</th>\n",
       "      <th>max_temp</th>\n",
       "      <th>min_temp</th>\n",
       "      <th>hum_pct</th>\n",
       "      <th>pressure</th>\n",
       "      <th>wind_speed</th>\n",
       "      <th>rainfall</th>\n",
       "    </tr>\n",
       "  </thead>\n",
       "  <tbody>\n",
       "    <tr>\n",
       "      <th>0</th>\n",
       "      <td>2014-12-19</td>\n",
       "      <td>(25.0631782,121.5642857)</td>\n",
       "      <td>三民國小</td>\n",
       "      <td>15.6667</td>\n",
       "      <td>15.7</td>\n",
       "      <td>15.6</td>\n",
       "      <td>81</td>\n",
       "      <td>1023.160</td>\n",
       "      <td>2.2</td>\n",
       "      <td>0</td>\n",
       "    </tr>\n",
       "    <tr>\n",
       "      <th>1</th>\n",
       "      <td>2014-12-19</td>\n",
       "      <td>(25.1180133,121.5373439)</td>\n",
       "      <td>三玉國小</td>\n",
       "      <td>17.3889</td>\n",
       "      <td>17.4</td>\n",
       "      <td>16.9</td>\n",
       "      <td>76</td>\n",
       "      <td>1022.380</td>\n",
       "      <td>2.7</td>\n",
       "      <td>0</td>\n",
       "    </tr>\n",
       "    <tr>\n",
       "      <th>2</th>\n",
       "      <td>2014-12-19</td>\n",
       "      <td>(25.154895,121.503983)</td>\n",
       "      <td>大屯國小</td>\n",
       "      <td>14.7222</td>\n",
       "      <td>14.7</td>\n",
       "      <td>14.1</td>\n",
       "      <td>81</td>\n",
       "      <td>992.144</td>\n",
       "      <td>1.3</td>\n",
       "      <td>0</td>\n",
       "    </tr>\n",
       "  </tbody>\n",
       "</table>\n",
       "</div>"
      ],
      "text/plain": [
       "     when_ts                  where_pt  name     temp  max_temp  min_temp  \\\n",
       "0 2014-12-19  (25.0631782,121.5642857)  三民國小  15.6667      15.7      15.6   \n",
       "1 2014-12-19  (25.1180133,121.5373439)  三玉國小  17.3889      17.4      16.9   \n",
       "2 2014-12-19    (25.154895,121.503983)  大屯國小  14.7222      14.7      14.1   \n",
       "\n",
       "   hum_pct  pressure  wind_speed  rainfall  \n",
       "0       81  1023.160         2.2         0  \n",
       "1       76  1022.380         2.7         0  \n",
       "2       81   992.144         1.3         0  "
      ]
     },
     "execution_count": 4,
     "metadata": {},
     "output_type": "execute_result"
    }
   ],
   "source": [
    "# query db\n",
    "sql = \"\"\"\n",
    "\n",
    "select * from tpweather limit 3\n",
    "\n",
    "\"\"\"\n",
    "\n",
    "tpweather_df = pandas.io.sql.read_sql(sql, conn)\n",
    "tpweather_df.head()"
   ]
  },
  {
   "cell_type": "code",
   "execution_count": 5,
   "metadata": {
    "collapsed": false
   },
   "outputs": [
    {
     "data": {
      "text/plain": [
       "Index([u'when_ts', u'where_pt', u'name', u'temp', u'max_temp', u'min_temp', u'hum_pct', u'pressure', u'wind_speed', u'rainfall'], dtype='object')"
      ]
     },
     "execution_count": 5,
     "metadata": {},
     "output_type": "execute_result"
    }
   ],
   "source": [
    "tpweather_df.columns"
   ]
  },
  {
   "cell_type": "code",
   "execution_count": 6,
   "metadata": {
    "collapsed": true
   },
   "outputs": [],
   "source": [
    "#!/usr/bin/env python\n",
    "# -*- coding: utf-8 -*-\n",
    "\n",
    "import psycopg2\n",
    "\n",
    "conn = psycopg2.connect(user='lab')\n",
    "cur = conn.cursor()\n",
    "\n",
    "cur.execute('''drop table if exists ubike_nearest_tpweather''')\n",
    "\n",
    "cur.execute('''\n",
    "    create table ubike_nearest_tpweather (\n",
    "        u_code varchar(8),\n",
    "        w_name varchar(32),\n",
    "        primary key (u_code, w_name)\n",
    "    )\n",
    "''')\n",
    "\n",
    "cur.execute('''\n",
    "    insert into\n",
    "        ubike_nearest_tpweather\n",
    "    select distinct on (u.code)\n",
    "        code,\n",
    "        (\n",
    "            select name\n",
    "            from tpweather as w\n",
    "            order by w.where_pt<->u.where_pt\n",
    "            limit 1\n",
    "        )\n",
    "    from ubike as u\n",
    "''')\n",
    "\n",
    "cur.close()\n",
    "conn.commit()\n",
    "conn.close()\n"
   ]
  },
  {
   "cell_type": "code",
   "execution_count": 10,
   "metadata": {
    "collapsed": false
   },
   "outputs": [
    {
     "data": {
      "text/html": [
       "<div style=\"max-height:1000px;max-width:1500px;overflow:auto;\">\n",
       "<table border=\"1\" class=\"dataframe\">\n",
       "  <thead>\n",
       "    <tr style=\"text-align: right;\">\n",
       "      <th></th>\n",
       "      <th>u_code</th>\n",
       "      <th>w_name</th>\n",
       "    </tr>\n",
       "  </thead>\n",
       "  <tbody>\n",
       "    <tr>\n",
       "      <th>0</th>\n",
       "      <td>1</td>\n",
       "      <td>博愛國小</td>\n",
       "    </tr>\n",
       "    <tr>\n",
       "      <th>1</th>\n",
       "      <td>10</td>\n",
       "      <td>吳興國小</td>\n",
       "    </tr>\n",
       "    <tr>\n",
       "      <th>2</th>\n",
       "      <td>100</td>\n",
       "      <td>忠孝國小</td>\n",
       "    </tr>\n",
       "  </tbody>\n",
       "</table>\n",
       "</div>"
      ],
      "text/plain": [
       "  u_code w_name\n",
       "0      1   博愛國小\n",
       "1     10   吳興國小\n",
       "2    100   忠孝國小"
      ]
     },
     "execution_count": 10,
     "metadata": {},
     "output_type": "execute_result"
    }
   ],
   "source": [
    "conn = psycopg2.connect(user='lab')\n",
    "cur = conn.cursor()\n",
    "\n",
    "# query db\n",
    "sql = \"\"\"\n",
    "\n",
    "select * from ubike_nearest_tpweather limit 3\n",
    "\n",
    "\"\"\"\n",
    "\n",
    "tpweather_df = pandas.io.sql.read_sql(sql, conn)\n",
    "tpweather_df.head()"
   ]
  },
  {
   "cell_type": "code",
   "execution_count": null,
   "metadata": {
    "collapsed": true
   },
   "outputs": [],
   "source": []
  }
 ],
 "metadata": {
  "kernelspec": {
   "display_name": "Python 2",
   "language": "python",
   "name": "python2"
  },
  "language_info": {
   "codemirror_mode": {
    "name": "ipython",
    "version": 2
   },
   "file_extension": ".py",
   "mimetype": "text/x-python",
   "name": "python",
   "nbconvert_exporter": "python",
   "pygments_lexer": "ipython2",
   "version": "2.7.6"
  }
 },
 "nbformat": 4,
 "nbformat_minor": 0
}
